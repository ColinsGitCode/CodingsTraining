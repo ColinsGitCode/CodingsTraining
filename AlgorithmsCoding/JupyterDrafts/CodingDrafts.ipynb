{
 "cells": [
  {
   "cell_type": "code",
   "execution_count": 2,
   "outputs": [],
   "source": [
    "# leet code question No,21\n",
    "\n",
    "\n",
    "class LinkNode:\n",
    "    def __init__(self, val=0, next=None):\n",
    "        self.val = val\n",
    "        self.next = next\n",
    "        "
   ],
   "metadata": {
    "collapsed": false,
    "ExecuteTime": {
     "end_time": "2023-12-12T05:15:42.928590Z",
     "start_time": "2023-12-12T05:15:42.912516800Z"
    }
   },
   "id": "e413207aca98a77a"
  },
  {
   "cell_type": "code",
   "execution_count": 3,
   "outputs": [],
   "source": [
    "node1 = LinkNode(1)\n",
    "node2 = LinkNode(2)\n"
   ],
   "metadata": {
    "collapsed": false,
    "ExecuteTime": {
     "end_time": "2023-12-12T05:16:12.285036700Z",
     "start_time": "2023-12-12T05:16:12.275659600Z"
    }
   },
   "id": "aa0de53d09b482ee"
  },
  {
   "cell_type": "code",
   "execution_count": 5,
   "outputs": [],
   "source": [
    "node1.next = node2"
   ],
   "metadata": {
    "collapsed": false,
    "ExecuteTime": {
     "end_time": "2023-12-12T05:16:23.973001700Z",
     "start_time": "2023-12-12T05:16:23.963484Z"
    }
   },
   "id": "30f70dafedea2fd0"
  },
  {
   "cell_type": "code",
   "execution_count": 7,
   "outputs": [
    {
     "data": {
      "text/plain": "2"
     },
     "execution_count": 7,
     "metadata": {},
     "output_type": "execute_result"
    }
   ],
   "source": [
    "node1.next.val"
   ],
   "metadata": {
    "collapsed": false,
    "ExecuteTime": {
     "end_time": "2023-12-12T05:16:49.127639600Z",
     "start_time": "2023-12-12T05:16:49.098513900Z"
    }
   },
   "id": "758e1081599fefb0"
  },
  {
   "cell_type": "code",
   "execution_count": null,
   "outputs": [],
   "source": [],
   "metadata": {
    "collapsed": false
   },
   "id": "7c4f9dcc3b408332"
  }
 ],
 "metadata": {
  "kernelspec": {
   "display_name": "Python 3",
   "language": "python",
   "name": "python3"
  },
  "language_info": {
   "codemirror_mode": {
    "name": "ipython",
    "version": 2
   },
   "file_extension": ".py",
   "mimetype": "text/x-python",
   "name": "python",
   "nbconvert_exporter": "python",
   "pygments_lexer": "ipython2",
   "version": "2.7.6"
  }
 },
 "nbformat": 4,
 "nbformat_minor": 5
}
